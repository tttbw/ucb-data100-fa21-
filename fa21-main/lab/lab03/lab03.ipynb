{
 "cells": [
  {
   "cell_type": "code",
   "execution_count": 1,
   "metadata": {
    "deletable": false,
    "editable": false,
    "ExecuteTime": {
     "end_time": "2023-11-24T13:38:06.822664Z",
     "start_time": "2023-11-24T13:38:06.660629Z"
    }
   },
   "outputs": [],
   "source": [
    "# Initialize Otter\n",
    "import otter\n",
    "grader = otter.Notebook(\"lab03.ipynb\")"
   ]
  },
  {
   "cell_type": "markdown",
   "metadata": {
    "nbgrader": {
     "grade": false,
     "grade_id": "intro",
     "locked": true,
     "schema_version": 2,
     "solution": false
    }
   },
   "source": [
    "# Lab 3: Data Cleaning and Visualization\n",
    "\n",
    "In this lab you will be working on visualizing a dataset from the City of Berkeley containing data on calls to the Berkeley Police Department. Information about the dataset can be found [at this link](https://data.cityofberkeley.info/Public-Safety/Berkeley-PD-Calls-for-Service/k2nh-s5h5).\n",
    "\n",
    "Note: This lab will not work on older versions of Python; make sure to work on DataHub.\n",
    "\n",
    "**This assignment should be completed and submitted by 11:59 PM PDT on Tuesday, September 14th, 2021.**\n",
    "\n",
    "**Content Warning: This lab includes an analysis of crime in Berkeley. If you feel uncomfortable about the topic, please feel free to contact your GSI or the instructors.**"
   ]
  },
  {
   "cell_type": "markdown",
   "metadata": {
    "nbgrader": {
     "grade": false,
     "grade_id": "setup",
     "locked": true,
     "schema_version": 2,
     "solution": false
    }
   },
   "source": [
    "## Setup\n",
    "\n",
    "Note that we configure a custom default figure size. Virtually every default aspect of matplotlib [can be customized](https://matplotlib.org/users/customizing.html)."
   ]
  },
  {
   "cell_type": "code",
   "execution_count": 2,
   "metadata": {
    "nbgrader": {
     "grade": false,
     "grade_id": "imports",
     "locked": true,
     "schema_version": 2,
     "solution": false
    },
    "ExecuteTime": {
     "end_time": "2023-11-24T13:38:06.823767Z",
     "start_time": "2023-11-24T13:38:06.808348Z"
    }
   },
   "outputs": [],
   "source": [
    "import pandas as pd\n",
    "import numpy as np\n",
    "import zipfile\n",
    "import matplotlib\n",
    "import matplotlib.pyplot as plt\n",
    "\n",
    "plt.rcParams['figure.figsize'] = (12, 9)"
   ]
  },
  {
   "cell_type": "markdown",
   "metadata": {
    "nbgrader": {
     "grade": false,
     "grade_id": "part1",
     "locked": true,
     "schema_version": 2,
     "solution": false
    }
   },
   "source": [
    "## Part 1: Cleaning and Exploring the Data\n",
    "\n",
    "To retrieve the dataset, we will use the `ds100_utils.fetch_and_cache` utility."
   ]
  },
  {
   "cell_type": "code",
   "execution_count": 3,
   "metadata": {
    "collapsed": false,
    "ExecuteTime": {
     "end_time": "2023-11-24T13:38:06.865615Z",
     "start_time": "2023-11-24T13:38:06.811758Z"
    }
   },
   "outputs": [
    {
     "name": "stdout",
     "output_type": "stream",
     "text": [
      "Using cached version that was downloaded (UTC): Fri Nov 24 01:46:34 2023\n",
      "Located at data/lab04_data_fa20.zip\n"
     ]
    }
   ],
   "source": [
    "import ds100_utils\n",
    "\n",
    "data_dir = 'data'\n",
    "data_url = 'http://www.ds100.org/fa20/resources/assets/datasets/lab04_data_fa20.zip'\n",
    "file_name = 'lab04_data_fa20.zip'\n",
    "\n",
    "dest_path = ds100_utils.fetch_and_cache(data_url=data_url, file=file_name, data_dir=data_dir)\n",
    "print(f'Located at {dest_path}')"
   ]
  },
  {
   "cell_type": "markdown",
   "metadata": {
    "nbgrader": {
     "grade": false,
     "grade_id": "unzip-data-1",
     "locked": true,
     "schema_version": 2,
     "solution": false
    }
   },
   "source": [
    "We will now directly unzip the ZIP archive and start working with the uncompressed files.\n",
    "\n",
    "Note: There is no single right answer regarding whether to work with compressed files in their compressed state or to uncompress them on disk permanently. If you for example need to work with multiple tools on the same files, or write many notebooks to analyze them, and they are not too large, it may be more convenient to uncompress them once.  But you may also have situations where you find it preferable to work with the compressed data directly.  \n",
    "\n",
    "Python gives you tools for both approaches, and you should know how to perform both tasks in order to choose the one that best suits the problem at hand.\n",
    "\n",
    "---\n",
    "\n",
    "Run the cell below to extract the zip file into the data directory."
   ]
  },
  {
   "cell_type": "code",
   "execution_count": 4,
   "metadata": {
    "ExecuteTime": {
     "end_time": "2023-11-24T13:38:08.166757Z",
     "start_time": "2023-11-24T13:38:08.155628Z"
    }
   },
   "outputs": [],
   "source": [
    "my_zip = zipfile.ZipFile(dest_path, 'r')\n",
    "my_zip.extractall(data_dir)"
   ]
  },
  {
   "cell_type": "markdown",
   "metadata": {
    "nbgrader": {
     "grade": false,
     "grade_id": "q0",
     "locked": true,
     "schema_version": 2,
     "solution": false
    }
   },
   "source": [
    "Now, we'll use a method of the `Pathlib.Path` class called `glob` to list all files in the `data` directory. You will find useful information in pathlib [documentation](https://docs.python.org/3/library/pathlib.html).\n",
    "\n",
    "Below, we use pathlib's `glob` method to store the list of all files' names from the `data_dir` directory in the variable `file_names`. These names should be strings that contain only the file name (e.g. `dummy.txt` not `data/dummy.txt`). The asterisk (*) character is used with the `glob` method to match any string."
   ]
  },
  {
   "cell_type": "code",
   "execution_count": 5,
   "metadata": {
    "collapsed": false,
    "ExecuteTime": {
     "end_time": "2023-11-24T13:38:09.028596Z",
     "start_time": "2023-11-24T13:38:09.002656Z"
    }
   },
   "outputs": [
    {
     "data": {
      "text/plain": "['dummy.txt',\n 'hello_world.py',\n 'lab04_data_fa20.zip',\n 'Berkeley_PD_-_Calls_for_Service.csv',\n 'do_not_readme.md',\n 'ben_kurtovic.py']"
     },
     "execution_count": 5,
     "metadata": {},
     "output_type": "execute_result"
    }
   ],
   "source": [
    "from pathlib import Path\n",
    "data_dir_path = Path('data') # creates a Path object that points to the data directory\n",
    "file_names = [x.name for x in data_dir_path.glob('*') if x.is_file()]\n",
    "file_names"
   ]
  },
  {
   "cell_type": "markdown",
   "metadata": {
    "nbgrader": {
     "grade": false,
     "grade_id": "explore-0",
     "locked": true,
     "schema_version": 2,
     "solution": false
    }
   },
   "source": [
    "Let's now load the CSV file we have into a `pandas.DataFrame` object."
   ]
  },
  {
   "cell_type": "code",
   "execution_count": 6,
   "metadata": {
    "collapsed": false,
    "ExecuteTime": {
     "end_time": "2023-11-24T13:38:18.661127Z",
     "start_time": "2023-11-24T13:38:18.621574Z"
    }
   },
   "outputs": [
    {
     "data": {
      "text/plain": "     CASENO                   OFFENSE                 EVENTDT EVENTTM  \\\n0  18022300               DISTURBANCE  04/18/2018 12:00:00 AM   22:17   \n1  18026683  THEFT MISD. (UNDER $950)  05/09/2018 12:00:00 AM   21:25   \n2  18038550  THEFT MISD. (UNDER $950)  05/18/2018 12:00:00 AM   20:00   \n3  18014810             BURGLARY AUTO  03/13/2018 12:00:00 AM   08:50   \n4  18018643           ALCOHOL OFFENSE  03/31/2018 12:00:00 AM   13:29   \n\n               CVLEGEND  CVDOW                InDbDate  \\\n0    DISORDERLY CONDUCT      3  09/06/2018 03:30:12 AM   \n1               LARCENY      3  09/06/2018 03:30:13 AM   \n2               LARCENY      5  09/06/2018 03:30:09 AM   \n3    BURGLARY - VEHICLE      2  09/06/2018 03:30:08 AM   \n4  LIQUOR LAW VIOLATION      6  09/06/2018 03:30:11 AM   \n\n                                      Block_Location  \\\n0  OREGON STREET &amp; MCGEE AVE\\nBerkeley, CA\\n(...   \n1  200 UNIVERSITY AVE\\nBerkeley, CA\\n(37.865511, ...   \n2  2200 MILVIA ST\\nBerkeley, CA\\n(37.868574, -122...   \n3  1200 SIXTH ST\\nBerkeley, CA\\n(37.881142, -122....   \n4  CENTER STREET &amp; SHATTUCK AVE\\nBerkeley, CA...   \n\n                        BLKADDR      City State  \n0     OREGON STREET & MCGEE AVE  Berkeley    CA  \n1            200 UNIVERSITY AVE  Berkeley    CA  \n2                2200 MILVIA ST  Berkeley    CA  \n3                 1200 SIXTH ST  Berkeley    CA  \n4  CENTER STREET & SHATTUCK AVE  Berkeley    CA  ",
      "text/html": "<div>\n<style scoped>\n    .dataframe tbody tr th:only-of-type {\n        vertical-align: middle;\n    }\n\n    .dataframe tbody tr th {\n        vertical-align: top;\n    }\n\n    .dataframe thead th {\n        text-align: right;\n    }\n</style>\n<table border=\"1\" class=\"dataframe\">\n  <thead>\n    <tr style=\"text-align: right;\">\n      <th></th>\n      <th>CASENO</th>\n      <th>OFFENSE</th>\n      <th>EVENTDT</th>\n      <th>EVENTTM</th>\n      <th>CVLEGEND</th>\n      <th>CVDOW</th>\n      <th>InDbDate</th>\n      <th>Block_Location</th>\n      <th>BLKADDR</th>\n      <th>City</th>\n      <th>State</th>\n    </tr>\n  </thead>\n  <tbody>\n    <tr>\n      <th>0</th>\n      <td>18022300</td>\n      <td>DISTURBANCE</td>\n      <td>04/18/2018 12:00:00 AM</td>\n      <td>22:17</td>\n      <td>DISORDERLY CONDUCT</td>\n      <td>3</td>\n      <td>09/06/2018 03:30:12 AM</td>\n      <td>OREGON STREET &amp;amp; MCGEE AVE\\nBerkeley, CA\\n(...</td>\n      <td>OREGON STREET &amp; MCGEE AVE</td>\n      <td>Berkeley</td>\n      <td>CA</td>\n    </tr>\n    <tr>\n      <th>1</th>\n      <td>18026683</td>\n      <td>THEFT MISD. (UNDER $950)</td>\n      <td>05/09/2018 12:00:00 AM</td>\n      <td>21:25</td>\n      <td>LARCENY</td>\n      <td>3</td>\n      <td>09/06/2018 03:30:13 AM</td>\n      <td>200 UNIVERSITY AVE\\nBerkeley, CA\\n(37.865511, ...</td>\n      <td>200 UNIVERSITY AVE</td>\n      <td>Berkeley</td>\n      <td>CA</td>\n    </tr>\n    <tr>\n      <th>2</th>\n      <td>18038550</td>\n      <td>THEFT MISD. (UNDER $950)</td>\n      <td>05/18/2018 12:00:00 AM</td>\n      <td>20:00</td>\n      <td>LARCENY</td>\n      <td>5</td>\n      <td>09/06/2018 03:30:09 AM</td>\n      <td>2200 MILVIA ST\\nBerkeley, CA\\n(37.868574, -122...</td>\n      <td>2200 MILVIA ST</td>\n      <td>Berkeley</td>\n      <td>CA</td>\n    </tr>\n    <tr>\n      <th>3</th>\n      <td>18014810</td>\n      <td>BURGLARY AUTO</td>\n      <td>03/13/2018 12:00:00 AM</td>\n      <td>08:50</td>\n      <td>BURGLARY - VEHICLE</td>\n      <td>2</td>\n      <td>09/06/2018 03:30:08 AM</td>\n      <td>1200 SIXTH ST\\nBerkeley, CA\\n(37.881142, -122....</td>\n      <td>1200 SIXTH ST</td>\n      <td>Berkeley</td>\n      <td>CA</td>\n    </tr>\n    <tr>\n      <th>4</th>\n      <td>18018643</td>\n      <td>ALCOHOL OFFENSE</td>\n      <td>03/31/2018 12:00:00 AM</td>\n      <td>13:29</td>\n      <td>LIQUOR LAW VIOLATION</td>\n      <td>6</td>\n      <td>09/06/2018 03:30:11 AM</td>\n      <td>CENTER STREET &amp;amp; SHATTUCK AVE\\nBerkeley, CA...</td>\n      <td>CENTER STREET &amp; SHATTUCK AVE</td>\n      <td>Berkeley</td>\n      <td>CA</td>\n    </tr>\n  </tbody>\n</table>\n</div>"
     },
     "execution_count": 6,
     "metadata": {},
     "output_type": "execute_result"
    }
   ],
   "source": [
    "calls = pd.read_csv(\"data/Berkeley_PD_-_Calls_for_Service.csv\")\n",
    "calls.head()"
   ]
  },
  {
   "cell_type": "markdown",
   "metadata": {},
   "source": [
    "We see that the fields include a case number, the offense type, the date and time of the offense, the \"CVLEGEND\" which appears to be related to the offense type, a \"CVDOW\" which has no apparent meaning, a date added to the database, and the location spread across four fields.\n",
    "\n",
    "Let's also check some basic information about these files using the `DataFrame.info` and `DataFrame.describe` methods."
   ]
  },
  {
   "cell_type": "code",
   "execution_count": 7,
   "metadata": {
    "collapsed": false,
    "ExecuteTime": {
     "end_time": "2023-11-24T13:38:21.556278Z",
     "start_time": "2023-11-24T13:38:21.550283Z"
    }
   },
   "outputs": [
    {
     "name": "stdout",
     "output_type": "stream",
     "text": [
      "<class 'pandas.core.frame.DataFrame'>\n",
      "RangeIndex: 3788 entries, 0 to 3787\n",
      "Data columns (total 11 columns):\n",
      " #   Column          Non-Null Count  Dtype \n",
      "---  ------          --------------  ----- \n",
      " 0   CASENO          3788 non-null   int64 \n",
      " 1   OFFENSE         3788 non-null   object\n",
      " 2   EVENTDT         3788 non-null   object\n",
      " 3   EVENTTM         3788 non-null   object\n",
      " 4   CVLEGEND        3788 non-null   object\n",
      " 5   CVDOW           3788 non-null   int64 \n",
      " 6   InDbDate        3788 non-null   object\n",
      " 7   Block_Location  3788 non-null   object\n",
      " 8   BLKADDR         3766 non-null   object\n",
      " 9   City            3788 non-null   object\n",
      " 10  State           3788 non-null   object\n",
      "dtypes: int64(2), object(9)\n",
      "memory usage: 325.7+ KB\n"
     ]
    }
   ],
   "source": [
    "calls.info()"
   ]
  },
  {
   "cell_type": "markdown",
   "metadata": {},
   "source": [
    "Note that the `BLKADDR` column only has 3766 non-null entries, while the other columns all have 3788 entries. This is because the `.info()` method only counts non-null entries."
   ]
  },
  {
   "cell_type": "code",
   "execution_count": 8,
   "metadata": {
    "collapsed": false,
    "ExecuteTime": {
     "end_time": "2023-11-24T13:38:22.762369Z",
     "start_time": "2023-11-24T13:38:22.750865Z"
    }
   },
   "outputs": [
    {
     "data": {
      "text/plain": "             CASENO        CVDOW\ncount  3.788000e+03  3788.000000\nmean   1.804387e+07     2.997888\nstd    2.665970e+04     1.952160\nmin    1.801375e+07     0.000000\n25%    1.802444e+07     1.000000\n50%    1.803530e+07     3.000000\n75%    1.804537e+07     5.000000\nmax    1.809135e+07     6.000000",
      "text/html": "<div>\n<style scoped>\n    .dataframe tbody tr th:only-of-type {\n        vertical-align: middle;\n    }\n\n    .dataframe tbody tr th {\n        vertical-align: top;\n    }\n\n    .dataframe thead th {\n        text-align: right;\n    }\n</style>\n<table border=\"1\" class=\"dataframe\">\n  <thead>\n    <tr style=\"text-align: right;\">\n      <th></th>\n      <th>CASENO</th>\n      <th>CVDOW</th>\n    </tr>\n  </thead>\n  <tbody>\n    <tr>\n      <th>count</th>\n      <td>3.788000e+03</td>\n      <td>3788.000000</td>\n    </tr>\n    <tr>\n      <th>mean</th>\n      <td>1.804387e+07</td>\n      <td>2.997888</td>\n    </tr>\n    <tr>\n      <th>std</th>\n      <td>2.665970e+04</td>\n      <td>1.952160</td>\n    </tr>\n    <tr>\n      <th>min</th>\n      <td>1.801375e+07</td>\n      <td>0.000000</td>\n    </tr>\n    <tr>\n      <th>25%</th>\n      <td>1.802444e+07</td>\n      <td>1.000000</td>\n    </tr>\n    <tr>\n      <th>50%</th>\n      <td>1.803530e+07</td>\n      <td>3.000000</td>\n    </tr>\n    <tr>\n      <th>75%</th>\n      <td>1.804537e+07</td>\n      <td>5.000000</td>\n    </tr>\n    <tr>\n      <th>max</th>\n      <td>1.809135e+07</td>\n      <td>6.000000</td>\n    </tr>\n  </tbody>\n</table>\n</div>"
     },
     "execution_count": 8,
     "metadata": {},
     "output_type": "execute_result"
    }
   ],
   "source": [
    "calls.describe()"
   ]
  },
  {
   "cell_type": "markdown",
   "metadata": {
    "nbgrader": {
     "grade": false,
     "grade_id": "explore-4",
     "locked": true,
     "schema_version": 2,
     "solution": false
    }
   },
   "source": [
    "Notice that the functions above reveal type information for the columns, as well as some basic statistics about the numerical columns found in the DataFrame. However, we still need more information about what each column represents. Let's explore the data further in Question 1.\n",
    "\n",
    "Before we go over the fields to see their meanings, the cell below will verify that all the events happened in Berkeley by grouping on the `City` and `State` columns. You should see that all of our data falls into one group."
   ]
  },
  {
   "cell_type": "code",
   "execution_count": 9,
   "metadata": {
    "collapsed": false,
    "ExecuteTime": {
     "end_time": "2023-11-24T13:38:24.273457Z",
     "start_time": "2023-11-24T13:38:24.260809Z"
    }
   },
   "outputs": [
    {
     "data": {
      "text/plain": "                CASENO  OFFENSE  EVENTDT  EVENTTM  CVLEGEND  CVDOW  InDbDate  \\\nCity     State                                                                 \nBerkeley CA       3788     3788     3788     3788      3788   3788      3788   \n\n                Block_Location  BLKADDR  \nCity     State                           \nBerkeley CA               3788     3766  ",
      "text/html": "<div>\n<style scoped>\n    .dataframe tbody tr th:only-of-type {\n        vertical-align: middle;\n    }\n\n    .dataframe tbody tr th {\n        vertical-align: top;\n    }\n\n    .dataframe thead th {\n        text-align: right;\n    }\n</style>\n<table border=\"1\" class=\"dataframe\">\n  <thead>\n    <tr style=\"text-align: right;\">\n      <th></th>\n      <th></th>\n      <th>CASENO</th>\n      <th>OFFENSE</th>\n      <th>EVENTDT</th>\n      <th>EVENTTM</th>\n      <th>CVLEGEND</th>\n      <th>CVDOW</th>\n      <th>InDbDate</th>\n      <th>Block_Location</th>\n      <th>BLKADDR</th>\n    </tr>\n    <tr>\n      <th>City</th>\n      <th>State</th>\n      <th></th>\n      <th></th>\n      <th></th>\n      <th></th>\n      <th></th>\n      <th></th>\n      <th></th>\n      <th></th>\n      <th></th>\n    </tr>\n  </thead>\n  <tbody>\n    <tr>\n      <th>Berkeley</th>\n      <th>CA</th>\n      <td>3788</td>\n      <td>3788</td>\n      <td>3788</td>\n      <td>3788</td>\n      <td>3788</td>\n      <td>3788</td>\n      <td>3788</td>\n      <td>3788</td>\n      <td>3766</td>\n    </tr>\n  </tbody>\n</table>\n</div>"
     },
     "execution_count": 9,
     "metadata": {},
     "output_type": "execute_result"
    }
   ],
   "source": [
    "calls.groupby([\"City\",\"State\"]).count()"
   ]
  },
  {
   "cell_type": "markdown",
   "metadata": {
    "nbgrader": {
     "grade": false,
     "grade_id": "q1",
     "locked": true,
     "schema_version": 2,
     "solution": false
    }
   },
   "source": [
    "When we called `head()` on the Dataframe `calls`, it seemed like `OFFENSE` and `CVLEGEND` both contained information about the type of event reported. What is the difference in meaning between the two columns? One way to probe this is to look at the `value_counts` for each Series."
   ]
  },
  {
   "cell_type": "code",
   "execution_count": 10,
   "metadata": {
    "collapsed": false,
    "ExecuteTime": {
     "end_time": "2023-11-24T13:41:20.597935Z",
     "start_time": "2023-11-24T13:41:20.571452Z"
    }
   },
   "outputs": [
    {
     "data": {
      "text/plain": "BURGLARY AUTO               658\nTHEFT MISD. (UNDER $950)    633\nDISTURBANCE                 277\nVANDALISM                   248\nVEHICLE STOLEN              235\nTHEFT FELONY (OVER $950)    214\nBURGLARY RESIDENTIAL        194\nASSAULT/BATTERY MISD.       190\nROBBERY                     168\nNARCOTICS                   118\nName: OFFENSE, dtype: int64"
     },
     "execution_count": 10,
     "metadata": {},
     "output_type": "execute_result"
    }
   ],
   "source": [
    "calls['OFFENSE'].value_counts().head(10)"
   ]
  },
  {
   "cell_type": "code",
   "execution_count": 11,
   "metadata": {
    "collapsed": false,
    "ExecuteTime": {
     "end_time": "2023-11-24T13:42:02.005575Z",
     "start_time": "2023-11-24T13:42:01.993596Z"
    }
   },
   "outputs": [
    {
     "data": {
      "text/plain": "LARCENY                   871\nBURGLARY - VEHICLE        658\nDISORDERLY CONDUCT        279\nASSAULT                   263\nVANDALISM                 248\nMOTOR VEHICLE THEFT       235\nFRAUD                     208\nBURGLARY - RESIDENTIAL    194\nROBBERY                   168\nDRUG VIOLATION            118\nName: CVLEGEND, dtype: int64"
     },
     "execution_count": 11,
     "metadata": {},
     "output_type": "execute_result"
    }
   ],
   "source": [
    "calls['CVLEGEND'].value_counts().head(10)"
   ]
  },
  {
   "cell_type": "markdown",
   "metadata": {
    "nbgrader": {
     "grade": false,
     "grade_id": "q1a",
     "locked": true,
     "schema_version": 2,
     "solution": false
    }
   },
   "source": [
    "It seems like `OFFENSE` is more specific than `CVLEGEND`, e.g. \"LARCENY\" vs. \"THEFT FELONY (OVER $950)\". If you're unfamiliar with the term, \"larceny\" is a legal term for theft of personal property.\n",
    "\n",
    "To get a sense of how many subcategories there are for each `OFFENSE`, we will set `calls_by_cvlegend_and_offense` equal to a multi-indexed series where the data is first indexed on the `CVLEGEND` and then on the `OFFENSE`, and the data is equal to the number of offenses in the database that match the respective `CVLEGEND` and `OFFENSE`. As you can see, `calls_by_cvlegend_and_offense[\"LARCENY\", \"THEFT FROM PERSON\"]` returns 24 which means there are 24 instances of larceny with offense of type \"THEFT FROM PERSON\" in the database."
   ]
  },
  {
   "cell_type": "code",
   "execution_count": 19,
   "outputs": [
    {
     "data": {
      "text/plain": "24"
     },
     "execution_count": 19,
     "metadata": {},
     "output_type": "execute_result"
    }
   ],
   "source": [
    "calls_by_cvlegend_and_offense = calls.groupby([\"CVLEGEND\", \"OFFENSE\"]).size()\n",
    "calls_by_cvlegend_and_offense[\"LARCENY\", \"THEFT FROM PERSON\"]\n"
   ],
   "metadata": {
    "collapsed": false
   }
  },
  {
   "cell_type": "code",
   "execution_count": 20,
   "outputs": [
    {
     "data": {
      "text/plain": "CVLEGEND                OFFENSE                 \nALL OTHER OFFENSES      MUNICIPAL CODE                3\nARSON                   ARSON                        18\nASSAULT                 ASSAULT/BATTERY FEL.         73\n                        ASSAULT/BATTERY MISD.       190\nBURGLARY - COMMERCIAL   BURGLARY COMMERCIAL         112\nBURGLARY - RESIDENTIAL  BURGLARY RESIDENTIAL        194\nBURGLARY - VEHICLE      BURGLARY AUTO               658\nDISORDERLY CONDUCT      DISTURBANCE                 277\n                        VICE                          2\nDRUG VIOLATION          NARCOTICS                   118\nFAMILY OFFENSE          DOMESTIC VIOLENCE           108\nFRAUD                   FRAUD/FORGERY                95\n                        IDENTITY THEFT              113\nHOMICIDE                HOMICIDE                      1\nKIDNAPPING              KIDNAPPING                    6\nLARCENY                 THEFT FELONY (OVER $950)    214\n                        THEFT FROM PERSON            24\n                        THEFT MISD. (UNDER $950)    633\nLARCENY - FROM VEHICLE  THEFT FROM AUTO              87\nLIQUOR LAW VIOLATION    ALCOHOL OFFENSE              53\nMISSING PERSON          MISSING ADULT                30\n                        MISSING JUVENILE              8\nMOTOR VEHICLE THEFT     VEHICLE STOLEN              235\nNOISE VIOLATION         2ND RESPONSE                  3\n                        DISTURBANCE - NOISE           1\nRECOVERED VEHICLE       VEHICLE RECOVERED            15\nROBBERY                 ROBBERY                     168\nSEX CRIME               SEXUAL ASSAULT FEL.          23\n                        SEXUAL ASSAULT MISD.         12\nVANDALISM               VANDALISM                   248\nWEAPONS OFFENSE         BRANDISHING                  43\n                        GUN/WEAPON                   23\ndtype: int64"
     },
     "metadata": {},
     "output_type": "display_data"
    }
   ],
   "source": [
    "display(calls_by_cvlegend_and_offense)"
   ],
   "metadata": {
    "collapsed": false,
    "ExecuteTime": {
     "end_time": "2023-11-24T13:54:10.198568Z",
     "start_time": "2023-11-24T13:54:10.178098Z"
    }
   }
  },
  {
   "cell_type": "markdown",
   "metadata": {
    "deletable": false,
    "editable": false,
    "nbgrader": {
     "grade": false,
     "grade_id": "q1b",
     "locked": true,
     "schema_version": 2,
     "solution": false
    }
   },
   "source": [
    "### Question 1\n",
    "\n",
    "In the cell below, set `answer1` equal to a list of strings corresponding to the possible values for `OFFENSE` when `CVLEGEND` is \"LARCENY\". You can type the answer manually, or you can create an expression that automatically extracts the names.\n",
    "\n",
    "<!--\n",
    "BEGIN QUESTION\n",
    "name: q1\n",
    "-->"
   ]
  },
  {
   "cell_type": "code",
   "execution_count": 35,
   "outputs": [
    {
     "data": {
      "text/plain": "OFFENSE\nTHEFT FELONY (OVER $950)    214\nTHEFT FROM PERSON            24\nTHEFT MISD. (UNDER $950)    633\ndtype: int64"
     },
     "execution_count": 35,
     "metadata": {},
     "output_type": "execute_result"
    }
   ],
   "source": [
    "calls_by_cvlegend_and_offense['LARCENY']"
   ],
   "metadata": {
    "collapsed": false,
    "ExecuteTime": {
     "end_time": "2023-11-24T14:08:59.288317Z",
     "start_time": "2023-11-24T14:08:59.268634Z"
    }
   }
  },
  {
   "cell_type": "code",
   "execution_count": 37,
   "metadata": {
    "collapsed": false,
    "ExecuteTime": {
     "end_time": "2023-11-24T14:09:30.876741Z",
     "start_time": "2023-11-24T14:09:30.857741Z"
    }
   },
   "outputs": [
    {
     "data": {
      "text/plain": "['THEFT FELONY (OVER $950)', 'THEFT FROM PERSON', 'THEFT MISD. (UNDER $950)']"
     },
     "execution_count": 37,
     "metadata": {},
     "output_type": "execute_result"
    }
   ],
   "source": [
    "answer1 = []\n",
    "for x in calls_by_cvlegend_and_offense['LARCENY'].index:answer1.append(x)\n",
    "answer1"
   ]
  },
  {
   "cell_type": "code",
   "execution_count": 38,
   "metadata": {
    "deletable": false,
    "editable": false,
    "ExecuteTime": {
     "end_time": "2023-11-24T14:09:32.745912Z",
     "start_time": "2023-11-24T14:09:32.732283Z"
    }
   },
   "outputs": [
    {
     "data": {
      "text/plain": "q1 results: All test cases passed!",
      "text/html": "<p><strong><pre style='display: inline;'>q1</pre></strong> passed! 🌈</p>"
     },
     "execution_count": 38,
     "metadata": {},
     "output_type": "execute_result"
    }
   ],
   "source": [
    "grader.check(\"q1\")"
   ]
  },
  {
   "cell_type": "markdown",
   "metadata": {
    "nbgrader": {
     "grade": false,
     "grade_id": "setup",
     "locked": true,
     "schema_version": 2,
     "solution": false
    }
   },
   "source": [
    "--- \n",
    "\n",
    "## Part 2: Visualization\n"
   ]
  },
  {
   "cell_type": "markdown",
   "metadata": {
    "nbgrader": {
     "grade": false,
     "grade_id": "part2",
     "locked": true,
     "schema_version": 2,
     "solution": false
    }
   },
   "source": [
    "## Pandas Examples\n",
    "\n",
    "Pandas offers basic functionality for plotting. For example, the `DataFrame` and `Series` classes both have a `plot` method. \n",
    "\n",
    "As you learn to do data visualization, you may find the [pandas plotting documentation](https://pandas.pydata.org/pandas-docs/stable/reference/api/pandas.DataFrame.plot.html)  helpful!"
   ]
  },
  {
   "cell_type": "markdown",
   "metadata": {
    "nbgrader": {
     "grade": false,
     "grade_id": "plot-demo",
     "locked": true,
     "schema_version": 2,
     "solution": false
    }
   },
   "source": [
    "As an example of the built-in plotting functionality of pandas, the following example uses `plot` method of the `Series` class to generate a `barh` plot type to visually display the value counts for `CVLEGEND`.\n",
    "\n",
    "There are also many other plots that we will explore throughout the lab."
   ]
  },
  {
   "cell_type": "code",
   "execution_count": 69,
   "metadata": {
    "collapsed": false,
    "nbgrader": {
     "grade": false,
     "grade_id": "plot-demo1",
     "locked": true,
     "schema_version": 2,
     "solution": false
    },
    "ExecuteTime": {
     "end_time": "2023-11-24T14:46:55.581241Z",
     "start_time": "2023-11-24T14:46:55.365219Z"
    }
   },
   "outputs": [
    {
     "data": {
      "text/plain": "<Figure size 1200x900 with 1 Axes>",
      "image/png": "[encoded data removed]"
     },
     "metadata": {},
     "output_type": "display_data"
    }
   ],
   "source": [
    "ax = calls['CVLEGEND'].value_counts().plot(kind='barh')\n",
    "ax.set_ylabel(\"Crime Category\")\n",
    "ax.set_xlabel(\"Number of Calls\")\n",
    "ax.set_title(\"Number of Calls By Crime Type\");\n",
    "ax2 = plt.gca()"
   ]
  },
  {
   "cell_type": "markdown",
   "metadata": {
    "nbgrader": {
     "grade": false,
     "grade_id": "plot-demo6",
     "locked": true,
     "schema_version": 2,
     "solution": false
    }
   },
   "source": [
    "\n",
    "\n",
    "## An Additional Note on Plotting in Jupyter Notebooks\n",
    "\n",
    "You may have noticed that many of our code cells involving plotting end with a semicolon (;). This prevents any extra output from the last line of the cell that we may not want to see. Try adding this to your own code in the following questions!"
   ]
  },
  {
   "cell_type": "markdown",
   "metadata": {
    "deletable": false,
    "editable": false,
    "nbgrader": {
     "grade": false,
     "grade_id": "q3",
     "locked": true,
     "schema_version": 2,
     "solution": false
    }
   },
   "source": [
    "### Question 2\n",
    "\n",
    "Now it is your turn to make some plots using `pandas`.  Let's start by transforming the data so that it is easier to work with. We then will look at some distributions of the data. \n",
    "\n",
    "The CVDOW field isn't named helpfully and it is hard to see the meaning from the data alone. According to the website linked at the top of this notebook, CVDOW is actually indicating the day that events happened. 0->Sunday, 1->Monday ... 6->Saturday. \n",
    "\n",
    "#### Question 2a\n",
    "\n",
    "Add a new column `Day` into the `calls` DataFrame that has the string weekday (eg. 'Sunday') for the corresponding value in CVDOW. For example, if the first 3 values of `CVDOW` are `[3, 6, 0]`, then the first 3 values of the `Day` column should be `[\"Wednesday\", \"Saturday\", \"Sunday\"]`.\n",
    "\n",
    "**Hint:** *Try using the [Series.map](https://pandas.pydata.org/pandas-docs/stable/reference/api/pandas.Series.map.html) function on `calls[\"CVDOW\"]`.  Can you assign this to the new column `calls[\"Day\"]`?*\n",
    "\n",
    "<!--\n",
    "BEGIN QUESTION\n",
    "name: q2a\n",
    "-->"
   ]
  },
  {
   "cell_type": "code",
   "execution_count": 46,
   "metadata": {
    "collapsed": true,
    "jupyter": {
     "outputs_hidden": true
    },
    "nbgrader": {
     "grade": false,
     "grade_id": "q3a-answer",
     "locked": false,
     "schema_version": 2,
     "solution": true
    },
    "ExecuteTime": {
     "end_time": "2023-11-24T14:28:50.541170Z",
     "start_time": "2023-11-24T14:28:50.511511Z"
    }
   },
   "outputs": [
    {
     "data": {
      "text/plain": "     CASENO                   OFFENSE                 EVENTDT EVENTTM  \\\n0  18022300               DISTURBANCE  04/18/2018 12:00:00 AM   22:17   \n1  18026683  THEFT MISD. (UNDER $950)  05/09/2018 12:00:00 AM   21:25   \n2  18038550  THEFT MISD. (UNDER $950)  05/18/2018 12:00:00 AM   20:00   \n3  18014810             BURGLARY AUTO  03/13/2018 12:00:00 AM   08:50   \n4  18018643           ALCOHOL OFFENSE  03/31/2018 12:00:00 AM   13:29   \n\n               CVLEGEND  CVDOW                InDbDate  \\\n0    DISORDERLY CONDUCT      3  09/06/2018 03:30:12 AM   \n1               LARCENY      3  09/06/2018 03:30:13 AM   \n2               LARCENY      5  09/06/2018 03:30:09 AM   \n3    BURGLARY - VEHICLE      2  09/06/2018 03:30:08 AM   \n4  LIQUOR LAW VIOLATION      6  09/06/2018 03:30:11 AM   \n\n                                      Block_Location  \\\n0  OREGON STREET &amp; MCGEE AVE\\nBerkeley, CA\\n(...   \n1  200 UNIVERSITY AVE\\nBerkeley, CA\\n(37.865511, ...   \n2  2200 MILVIA ST\\nBerkeley, CA\\n(37.868574, -122...   \n3  1200 SIXTH ST\\nBerkeley, CA\\n(37.881142, -122....   \n4  CENTER STREET &amp; SHATTUCK AVE\\nBerkeley, CA...   \n\n                        BLKADDR      City State        Day  \n0     OREGON STREET & MCGEE AVE  Berkeley    CA  Wednesday  \n1            200 UNIVERSITY AVE  Berkeley    CA  Wednesday  \n2                2200 MILVIA ST  Berkeley    CA     Friday  \n3                 1200 SIXTH ST  Berkeley    CA    Tuesday  \n4  CENTER STREET & SHATTUCK AVE  Berkeley    CA   Saturday  ",
      "text/html": "<div>\n<style scoped>\n    .dataframe tbody tr th:only-of-type {\n        vertical-align: middle;\n    }\n\n    .dataframe tbody tr th {\n        vertical-align: top;\n    }\n\n    .dataframe thead th {\n        text-align: right;\n    }\n</style>\n<table border=\"1\" class=\"dataframe\">\n  <thead>\n    <tr style=\"text-align: right;\">\n      <th></th>\n      <th>CASENO</th>\n      <th>OFFENSE</th>\n      <th>EVENTDT</th>\n      <th>EVENTTM</th>\n      <th>CVLEGEND</th>\n      <th>CVDOW</th>\n      <th>InDbDate</th>\n      <th>Block_Location</th>\n      <th>BLKADDR</th>\n      <th>City</th>\n      <th>State</th>\n      <th>Day</th>\n    </tr>\n  </thead>\n  <tbody>\n    <tr>\n      <th>0</th>\n      <td>18022300</td>\n      <td>DISTURBANCE</td>\n      <td>04/18/2018 12:00:00 AM</td>\n      <td>22:17</td>\n      <td>DISORDERLY CONDUCT</td>\n      <td>3</td>\n      <td>09/06/2018 03:30:12 AM</td>\n      <td>OREGON STREET &amp;amp; MCGEE AVE\\nBerkeley, CA\\n(...</td>\n      <td>OREGON STREET &amp; MCGEE AVE</td>\n      <td>Berkeley</td>\n      <td>CA</td>\n      <td>Wednesday</td>\n    </tr>\n    <tr>\n      <th>1</th>\n      <td>18026683</td>\n      <td>THEFT MISD. (UNDER $950)</td>\n      <td>05/09/2018 12:00:00 AM</td>\n      <td>21:25</td>\n      <td>LARCENY</td>\n      <td>3</td>\n      <td>09/06/2018 03:30:13 AM</td>\n      <td>200 UNIVERSITY AVE\\nBerkeley, CA\\n(37.865511, ...</td>\n      <td>200 UNIVERSITY AVE</td>\n      <td>Berkeley</td>\n      <td>CA</td>\n      <td>Wednesday</td>\n    </tr>\n    <tr>\n      <th>2</th>\n      <td>18038550</td>\n      <td>THEFT MISD. (UNDER $950)</td>\n      <td>05/18/2018 12:00:00 AM</td>\n      <td>20:00</td>\n      <td>LARCENY</td>\n      <td>5</td>\n      <td>09/06/2018 03:30:09 AM</td>\n      <td>2200 MILVIA ST\\nBerkeley, CA\\n(37.868574, -122...</td>\n      <td>2200 MILVIA ST</td>\n      <td>Berkeley</td>\n      <td>CA</td>\n      <td>Friday</td>\n    </tr>\n    <tr>\n      <th>3</th>\n      <td>18014810</td>\n      <td>BURGLARY AUTO</td>\n      <td>03/13/2018 12:00:00 AM</td>\n      <td>08:50</td>\n      <td>BURGLARY - VEHICLE</td>\n      <td>2</td>\n      <td>09/06/2018 03:30:08 AM</td>\n      <td>1200 SIXTH ST\\nBerkeley, CA\\n(37.881142, -122....</td>\n      <td>1200 SIXTH ST</td>\n      <td>Berkeley</td>\n      <td>CA</td>\n      <td>Tuesday</td>\n    </tr>\n    <tr>\n      <th>4</th>\n      <td>18018643</td>\n      <td>ALCOHOL OFFENSE</td>\n      <td>03/31/2018 12:00:00 AM</td>\n      <td>13:29</td>\n      <td>LIQUOR LAW VIOLATION</td>\n      <td>6</td>\n      <td>09/06/2018 03:30:11 AM</td>\n      <td>CENTER STREET &amp;amp; SHATTUCK AVE\\nBerkeley, CA...</td>\n      <td>CENTER STREET &amp; SHATTUCK AVE</td>\n      <td>Berkeley</td>\n      <td>CA</td>\n      <td>Saturday</td>\n    </tr>\n  </tbody>\n</table>\n</div>"
     },
     "execution_count": 46,
     "metadata": {},
     "output_type": "execute_result"
    }
   ],
   "source": [
    "days = [\"Sunday\", \"Monday\", \"Tuesday\", \"Wednesday\", \"Thursday\", \"Friday\", \"Saturday\"]\n",
    "day_indices = range(7)\n",
    "indices_to_days_dict = dict(zip(day_indices, days)) # Should look like {0:\"Sunday\", 1:\"Monday\", ..., 6:\"Saturday\"}\n",
    "calls['Day'] = calls['CVDOW'].map(indices_to_days_dict)\n",
    "calls.head()\n"
   ]
  },
  {
   "cell_type": "code",
   "execution_count": 47,
   "metadata": {
    "deletable": false,
    "editable": false,
    "ExecuteTime": {
     "end_time": "2023-11-24T14:29:03.113438Z",
     "start_time": "2023-11-24T14:29:03.098468Z"
    }
   },
   "outputs": [
    {
     "data": {
      "text/plain": "q2a results: All test cases passed!",
      "text/html": "<p><strong><pre style='display: inline;'>q2a</pre></strong> passed! 🎉</p>"
     },
     "execution_count": 47,
     "metadata": {},
     "output_type": "execute_result"
    }
   ],
   "source": [
    "grader.check(\"q2a\")"
   ]
  },
  {
   "cell_type": "markdown",
   "metadata": {
    "deletable": false,
    "editable": false
   },
   "source": [
    "#### Question 2b\n",
    "\n",
    "Now let's look at the EVENTTM column which indicates the time for events. Since it contains hour and minute information, let's extract the hour info and create a new column named `Hour` in the `calls` DataFrame. You should save the hour as an `int`.\n",
    "\n",
    "\n",
    "**Hint:** *Your code should only require one line*\n",
    "\n",
    "<!--\n",
    "BEGIN QUESTION\n",
    "name: q2b\n",
    "-->"
   ]
  },
  {
   "cell_type": "code",
   "execution_count": 66,
   "metadata": {
    "collapsed": true,
    "jupyter": {
     "outputs_hidden": true
    },
    "ExecuteTime": {
     "end_time": "2023-11-24T14:44:34.719918Z",
     "start_time": "2023-11-24T14:44:34.701927Z"
    }
   },
   "outputs": [
    {
     "data": {
      "text/plain": "     CASENO                   OFFENSE                 EVENTDT EVENTTM  \\\n0  18022300               DISTURBANCE  04/18/2018 12:00:00 AM   22:17   \n1  18026683  THEFT MISD. (UNDER $950)  05/09/2018 12:00:00 AM   21:25   \n2  18038550  THEFT MISD. (UNDER $950)  05/18/2018 12:00:00 AM   20:00   \n3  18014810             BURGLARY AUTO  03/13/2018 12:00:00 AM   08:50   \n4  18018643           ALCOHOL OFFENSE  03/31/2018 12:00:00 AM   13:29   \n\n               CVLEGEND  CVDOW                InDbDate  \\\n0    DISORDERLY CONDUCT      3  09/06/2018 03:30:12 AM   \n1               LARCENY      3  09/06/2018 03:30:13 AM   \n2               LARCENY      5  09/06/2018 03:30:09 AM   \n3    BURGLARY - VEHICLE      2  09/06/2018 03:30:08 AM   \n4  LIQUOR LAW VIOLATION      6  09/06/2018 03:30:11 AM   \n\n                                      Block_Location  \\\n0  OREGON STREET &amp; MCGEE AVE\\nBerkeley, CA\\n(...   \n1  200 UNIVERSITY AVE\\nBerkeley, CA\\n(37.865511, ...   \n2  2200 MILVIA ST\\nBerkeley, CA\\n(37.868574, -122...   \n3  1200 SIXTH ST\\nBerkeley, CA\\n(37.881142, -122....   \n4  CENTER STREET &amp; SHATTUCK AVE\\nBerkeley, CA...   \n\n                        BLKADDR      City State        Day  Hour  \n0     OREGON STREET & MCGEE AVE  Berkeley    CA  Wednesday    22  \n1            200 UNIVERSITY AVE  Berkeley    CA  Wednesday    21  \n2                2200 MILVIA ST  Berkeley    CA     Friday    20  \n3                 1200 SIXTH ST  Berkeley    CA    Tuesday     8  \n4  CENTER STREET & SHATTUCK AVE  Berkeley    CA   Saturday    13  ",
      "text/html": "<div>\n<style scoped>\n    .dataframe tbody tr th:only-of-type {\n        vertical-align: middle;\n    }\n\n    .dataframe tbody tr th {\n        vertical-align: top;\n    }\n\n    .dataframe thead th {\n        text-align: right;\n    }\n</style>\n<table border=\"1\" class=\"dataframe\">\n  <thead>\n    <tr style=\"text-align: right;\">\n      <th></th>\n      <th>CASENO</th>\n      <th>OFFENSE</th>\n      <th>EVENTDT</th>\n      <th>EVENTTM</th>\n      <th>CVLEGEND</th>\n      <th>CVDOW</th>\n      <th>InDbDate</th>\n      <th>Block_Location</th>\n      <th>BLKADDR</th>\n      <th>City</th>\n      <th>State</th>\n      <th>Day</th>\n      <th>Hour</th>\n    </tr>\n  </thead>\n  <tbody>\n    <tr>\n      <th>0</th>\n      <td>18022300</td>\n      <td>DISTURBANCE</td>\n      <td>04/18/2018 12:00:00 AM</td>\n      <td>22:17</td>\n      <td>DISORDERLY CONDUCT</td>\n      <td>3</td>\n      <td>09/06/2018 03:30:12 AM</td>\n      <td>OREGON STREET &amp;amp; MCGEE AVE\\nBerkeley, CA\\n(...</td>\n      <td>OREGON STREET &amp; MCGEE AVE</td>\n      <td>Berkeley</td>\n      <td>CA</td>\n      <td>Wednesday</td>\n      <td>22</td>\n    </tr>\n    <tr>\n      <th>1</th>\n      <td>18026683</td>\n      <td>THEFT MISD. (UNDER $950)</td>\n      <td>05/09/2018 12:00:00 AM</td>\n      <td>21:25</td>\n      <td>LARCENY</td>\n      <td>3</td>\n      <td>09/06/2018 03:30:13 AM</td>\n      <td>200 UNIVERSITY AVE\\nBerkeley, CA\\n(37.865511, ...</td>\n      <td>200 UNIVERSITY AVE</td>\n      <td>Berkeley</td>\n      <td>CA</td>\n      <td>Wednesday</td>\n      <td>21</td>\n    </tr>\n    <tr>\n      <th>2</th>\n      <td>18038550</td>\n      <td>THEFT MISD. (UNDER $950)</td>\n      <td>05/18/2018 12:00:00 AM</td>\n      <td>20:00</td>\n      <td>LARCENY</td>\n      <td>5</td>\n      <td>09/06/2018 03:30:09 AM</td>\n      <td>2200 MILVIA ST\\nBerkeley, CA\\n(37.868574, -122...</td>\n      <td>2200 MILVIA ST</td>\n      <td>Berkeley</td>\n      <td>CA</td>\n      <td>Friday</td>\n      <td>20</td>\n    </tr>\n    <tr>\n      <th>3</th>\n      <td>18014810</td>\n      <td>BURGLARY AUTO</td>\n      <td>03/13/2018 12:00:00 AM</td>\n      <td>08:50</td>\n      <td>BURGLARY - VEHICLE</td>\n      <td>2</td>\n      <td>09/06/2018 03:30:08 AM</td>\n      <td>1200 SIXTH ST\\nBerkeley, CA\\n(37.881142, -122....</td>\n      <td>1200 SIXTH ST</td>\n      <td>Berkeley</td>\n      <td>CA</td>\n      <td>Tuesday</td>\n      <td>8</td>\n    </tr>\n    <tr>\n      <th>4</th>\n      <td>18018643</td>\n      <td>ALCOHOL OFFENSE</td>\n      <td>03/31/2018 12:00:00 AM</td>\n      <td>13:29</td>\n      <td>LIQUOR LAW VIOLATION</td>\n      <td>6</td>\n      <td>09/06/2018 03:30:11 AM</td>\n      <td>CENTER STREET &amp;amp; SHATTUCK AVE\\nBerkeley, CA...</td>\n      <td>CENTER STREET &amp; SHATTUCK AVE</td>\n      <td>Berkeley</td>\n      <td>CA</td>\n      <td>Saturday</td>\n      <td>13</td>\n    </tr>\n  </tbody>\n</table>\n</div>"
     },
     "execution_count": 66,
     "metadata": {},
     "output_type": "execute_result"
    }
   ],
   "source": [
    "\n",
    "calls['Hour'] = pd.to_numeric(calls['EVENTTM'].str[0:2])\n",
    "calls.head()\n"
   ]
  },
  {
   "cell_type": "code",
   "execution_count": 64,
   "metadata": {
    "deletable": false,
    "editable": false,
    "ExecuteTime": {
     "end_time": "2023-11-24T14:43:13.914071Z",
     "start_time": "2023-11-24T14:43:13.892651Z"
    }
   },
   "outputs": [
    {
     "data": {
      "text/plain": "q2b results: All test cases passed!",
      "text/html": "<p><strong><pre style='display: inline;'>q2b</pre></strong> passed! 💯</p>"
     },
     "execution_count": 64,
     "metadata": {},
     "output_type": "execute_result"
    }
   ],
   "source": [
    "grader.check(\"q2b\")"
   ]
  },
  {
   "cell_type": "markdown",
   "metadata": {
    "deletable": false,
    "editable": false
   },
   "source": [
    "#### Question 2c\n",
    "\n",
    "\n",
    "Using `pandas`, construct a line plot with the count of the number of calls (entries in the table) for each hour of the day  **ordered by the time** (eg. `12:00 AM`, `1:00 AM`, ...). Please use the provided variable `hours` in your answer. Be sure that your axes are labeled and that your plot is titled. \n",
    "\n",
    "<!--\n",
    "BEGIN QUESTION\n",
    "name: q2c\n",
    "\n",
    "-->"
   ]
  },
  {
   "cell_type": "code",
   "execution_count": 86,
   "outputs": [
    {
     "data": {
      "text/plain": "0     240\n1     100\n2      87\n3      66\n4      47\n5      36\n6      68\n7      94\n8     128\n9     126\n10    147\n11    134\n12    227\n13    196\n14    209\n15    198\n16    214\n17    227\n18    270\n19    226\n20    205\n21    198\n22    205\n23    140\nName: Hour, dtype: int64"
     },
     "execution_count": 86,
     "metadata": {},
     "output_type": "execute_result"
    }
   ],
   "source": [
    "calls['Hour'].value_counts().sort_index()"
   ],
   "metadata": {
    "collapsed": false,
    "ExecuteTime": {
     "end_time": "2023-11-24T15:13:48.624982Z",
     "start_time": "2023-11-24T15:13:48.597176Z"
    }
   }
  },
  {
   "cell_type": "code",
   "execution_count": 88,
   "metadata": {
    "collapsed": false,
    "ExecuteTime": {
     "end_time": "2023-11-24T15:15:39.880414Z",
     "start_time": "2023-11-24T15:15:39.696238Z"
    }
   },
   "outputs": [
    {
     "data": {
      "text/plain": "<Figure size 1200x900 with 1 Axes>",
      "image/png": "[encoded data removed]"
     },
     "metadata": {},
     "output_type": "display_data"
    }
   ],
   "source": [
    "hours = list(range(24))\n",
    "ax = calls['Hour'].value_counts().sort_index().plot(kind = 'line',x = hours)\n",
    "ax.set_xlabel('hours')\n",
    "ax.set_ylabel('The counts of crime')\n",
    "ax.set_title('counts of crime changing with hours')\n",
    "\n",
    "\n",
    "\n",
    "# Leave this for grading purposes\n",
    "ax_3d = plt.gca()"
   ]
  },
  {
   "cell_type": "code",
   "execution_count": 89,
   "metadata": {
    "deletable": false,
    "editable": false,
    "ExecuteTime": {
     "end_time": "2023-11-24T15:15:43.430817Z",
     "start_time": "2023-11-24T15:15:43.417754Z"
    }
   },
   "outputs": [
    {
     "data": {
      "text/plain": "q2c results: All test cases passed!",
      "text/html": "<p><strong><pre style='display: inline;'>q2c</pre></strong> passed! 🌟</p>"
     },
     "execution_count": 89,
     "metadata": {},
     "output_type": "execute_result"
    }
   ],
   "source": [
    "grader.check(\"q2c\")"
   ]
  },
  {
   "cell_type": "markdown",
   "metadata": {},
   "source": [
    "##### Why do you think this happens? Are there more calls in the day or night? What are the most and least popular times? (Answer Below)"
   ]
  },
  {
   "cell_type": "markdown",
   "metadata": {},
   "source": []
  },
  {
   "cell_type": "markdown",
   "metadata": {
    "deletable": false,
    "editable": false,
    "nbgrader": {
     "grade": false,
     "grade_id": "q4",
     "locked": true,
     "schema_version": 2,
     "solution": false
    }
   },
   "source": [
    "### Question 3\n",
    "\n",
    "We can break down into some particular types of events to see their distribution. For example, let's make a bar plot for the CVLEGEND \"ROBBERY\". \n",
    "\n",
    "#### Question 3a\n",
    "\n",
    "Use `pandas` to create a vertical bar plot of the number of total robberies reported on each day of the week, again ordered by the days of the week starting with Sunday. Please use the provided variable `filtered` in your answer. Be sure that your axes are labeled and that your plot is titled.\n",
    "\n",
    "**Hint:** *This should be very similar to Question 2c*\n",
    "\n",
    "<!--\n",
    "BEGIN QUESTION\n",
    "name: q3a\n",
    "-->"
   ]
  },
  {
   "cell_type": "code",
   "execution_count": 28,
   "metadata": {
    "collapsed": false,
    "nbgrader": {
     "grade": false,
     "grade_id": "q4a-answer",
     "locked": false,
     "schema_version": 2,
     "solution": true
    }
   },
   "outputs": [],
   "source": [
    "filtered = calls[calls[\"CVLEGEND\"] == \"ROBBERY\"]\n",
    "...\n",
    "\n",
    "\n",
    "\n",
    "# Leave this for grading purposes\n",
    "ax_4a = plt.gca()"
   ]
  },
  {
   "cell_type": "code",
   "execution_count": null,
   "metadata": {
    "deletable": false,
    "editable": false
   },
   "outputs": [],
   "source": [
    "grader.check(\"q3a\")"
   ]
  },
  {
   "cell_type": "markdown",
   "metadata": {
    "nbgrader": {
     "grade": false,
     "grade_id": "q4b",
     "locked": true,
     "schema_version": 2,
     "solution": false
    }
   },
   "source": [
    "#### Question 3b\n",
    "\n",
    "Do you observe anything interesting about the distribution of ROBBERY calls over a week? Which day is the peak for \"ROBBERY\"? Type a 1-2 sentence answer below."
   ]
  },
  {
   "cell_type": "markdown",
   "metadata": {
    "nbgrader": {
     "grade": true,
     "grade_id": "q4b-answer",
     "locked": false,
     "points": 1,
     "schema_version": 2,
     "solution": true
    }
   },
   "source": []
  },
  {
   "cell_type": "markdown",
   "metadata": {
    "deletable": false,
    "editable": false,
    "nbgrader": {
     "grade": false,
     "grade_id": "q7",
     "locked": true,
     "schema_version": 2,
     "solution": false
    }
   },
   "source": [
    "### Question 4\n",
    "\n",
    "In the cell below, generate a boxplot which examines the hour of day of each crime broken down by the `CVLEGEND` value.  To construct this plot use the [DataFrame.boxplot](https://pandas.pydata.org/pandas-docs/stable/reference/api/pandas.DataFrame.boxplot.html) documentation. You may want to rotate the `CVLEGEND` labels for better readability.\n",
    "\n",
    "##### Looking at your plot, which crime type appears to have the largest interquartile range? Put your results into `answer4` as a string.\n",
    "\n",
    "\n",
    "<!--\n",
    "BEGIN QUESTION\n",
    "name: q4\n",
    "-->"
   ]
  },
  {
   "cell_type": "code",
   "execution_count": 32,
   "metadata": {
    "collapsed": false,
    "nbgrader": {
     "grade": false,
     "grade_id": "q7-pandas-boxplot",
     "locked": true,
     "schema_version": 2,
     "solution": false
    },
    "tags": [
     "student"
    ]
   },
   "outputs": [],
   "source": [
    "answer4 = ...\n",
    "..."
   ]
  },
  {
   "cell_type": "code",
   "execution_count": null,
   "metadata": {
    "deletable": false,
    "editable": false
   },
   "outputs": [],
   "source": [
    "grader.check(\"q4\")"
   ]
  },
  {
   "cell_type": "markdown",
   "metadata": {},
   "source": [
    "**Important**: To make sure the test cases run correctly, click `Kernel>Restart & Run All` and make sure all of the test cases are still passing. Doing so will submit your code for you. \n",
    "\n",
    "If your test cases are no longer passing after restarting, it's likely because you're missing a variable, or the modifications that you'd previously made to your DataFrame are no longer taking place (perhaps because you deleted a cell). \n",
    "\n",
    "You may submit this assignment as many times as you'd like before the deadline.\n",
    "\n",
    "**You must restart and run all cells before submitting. Otherwise, you may pass test cases locally, but not on our servers. We will not entertain regrade requests of the form, “my code passed all of my local test cases, but failed the autograder”.**"
   ]
  },
  {
   "cell_type": "markdown",
   "metadata": {
    "nbgrader": {
     "grade": false,
     "grade_id": "finish",
     "locked": true,
     "schema_version": 2,
     "solution": false
    }
   },
   "source": [
    "## Congratulations\n",
    "\n",
    "Congrats! You are finished with this assignment."
   ]
  },
  {
   "cell_type": "markdown",
   "metadata": {
    "deletable": false,
    "editable": false
   },
   "source": [
    "---\n",
    "\n",
    "To double-check your work, the cell below will rerun all of the autograder tests."
   ]
  },
  {
   "cell_type": "code",
   "execution_count": null,
   "metadata": {
    "deletable": false,
    "editable": false
   },
   "outputs": [],
   "source": [
    "grader.check_all()"
   ]
  },
  {
   "cell_type": "markdown",
   "metadata": {
    "deletable": false,
    "editable": false
   },
   "source": [
    "## Submission\n",
    "\n",
    "Make sure you have run all cells in your notebook in order before running the cell below, so that all images/graphs appear in the output. The cell below will generate a zip file for you to submit. **Please save before exporting!**"
   ]
  },
  {
   "cell_type": "code",
   "execution_count": null,
   "metadata": {
    "deletable": false,
    "editable": false
   },
   "outputs": [],
   "source": [
    "# Save your notebook first, then run this cell to export your submission.\n",
    "grader.export(pdf=False)"
   ]
  },
  {
   "cell_type": "markdown",
   "metadata": {},
   "source": [
    " "
   ]
  }
 ],
 "metadata": {
  "celltoolbar": "Create Assignment",
  "kernelspec": {
   "display_name": "Python 3 (ipykernel)",
   "language": "python",
   "name": "python3"
  },
  "language_info": {
   "codemirror_mode": {
    "name": "ipython",
    "version": 3
   },
   "file_extension": ".py",
   "mimetype": "text/x-python",
   "name": "python",
   "nbconvert_exporter": "python",
   "pygments_lexer": "ipython3",
   "version": "3.9.7"
  }
 },
 "nbformat": 4,
 "nbformat_minor": 4
}
